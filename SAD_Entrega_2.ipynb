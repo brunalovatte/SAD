{
  "nbformat": 4,
  "nbformat_minor": 0,
  "metadata": {
    "colab": {
      "provenance": [],
      "authorship_tag": "ABX9TyM2l/2au27hDGQ0/QR3g3Bp",
      "include_colab_link": true
    },
    "kernelspec": {
      "name": "python3",
      "display_name": "Python 3"
    },
    "language_info": {
      "name": "python"
    }
  },
  "cells": [
    {
      "cell_type": "markdown",
      "metadata": {
        "id": "view-in-github",
        "colab_type": "text"
      },
      "source": [
        "<a href=\"https://colab.research.google.com/github/brunalovatte/SAD/blob/main/SAD_Entrega_2.ipynb\" target=\"_parent\"><img src=\"https://colab.research.google.com/assets/colab-badge.svg\" alt=\"Open In Colab\"/></a>"
      ]
    },
    {
      "cell_type": "code",
      "execution_count": null,
      "metadata": {
        "colab": {
          "base_uri": "https://localhost:8080/"
        },
        "id": "Rap6ASx4vA__",
        "outputId": "c03cfe3e-72a3-4630-8ae6-bb3f17e0115f"
      },
      "outputs": [
        {
          "output_type": "stream",
          "name": "stdout",
          "text": [
            "Mounted at /content/drive\n"
          ]
        }
      ],
      "source": [
        "from google.colab import drive\n",
        "drive.mount('/content/drive')"
      ]
    },
    {
      "cell_type": "code",
      "source": [
        "import pandas as pd\n",
        "\n",
        "# Caminho do arquivo\n",
        "file_path = '/content/drive/MyDrive/Ufes/Engenharia de Produção/2024-2/SAD/Base de Dados/imunizacoes_estado.csv'\n",
        "\n",
        "try:\n",
        "    # Carregar CSV com delimitador correto e encoding\n",
        "    df = pd.read_csv(file_path, delimiter=';', encoding='latin1', on_bad_lines='skip')\n",
        "\n",
        "    # Exibindo número de linhas e colunas\n",
        "    num_rows, num_cols = df.shape\n",
        "    print(\"Número de linhas:\", num_rows)\n",
        "    print(\"Número de colunas:\", num_cols)\n",
        "except Exception as e:\n",
        "    print(f\"Erro ao carregar o arquivo: {e}\")\n"
      ],
      "metadata": {
        "colab": {
          "base_uri": "https://localhost:8080/"
        },
        "id": "EXwPRyGPvRHa",
        "outputId": "85e7bd6a-ed0d-49d2-ff6b-f0dff4ed8633"
      },
      "execution_count": null,
      "outputs": [
        {
          "output_type": "stream",
          "name": "stdout",
          "text": [
            "Número de linhas: 8505\n",
            "Número de colunas: 7\n"
          ]
        }
      ]
    },
    {
      "cell_type": "code",
      "source": [
        "import os\n",
        "\n",
        "# Obtendo o tamanho do arquivo em KB\n",
        "file_size_kb = os.path.getsize(file_path) / 1024\n",
        "print(\"Tamanho do arquivo (KB):\", file_size_kb)"
      ],
      "metadata": {
        "colab": {
          "base_uri": "https://localhost:8080/"
        },
        "id": "vQ2n8Nl5wQs1",
        "outputId": "cfd44e09-2895-4cb8-9a23-7af9ff67741b"
      },
      "execution_count": null,
      "outputs": [
        {
          "output_type": "stream",
          "name": "stdout",
          "text": [
            "Tamanho do arquivo (KB): 560.7158203125\n"
          ]
        }
      ]
    },
    {
      "cell_type": "code",
      "source": [
        "# Exibe informações sobre cada coluna e tipo de dado\n",
        "df.info()"
      ],
      "metadata": {
        "colab": {
          "base_uri": "https://localhost:8080/"
        },
        "id": "EOzaCp4fwhI3",
        "outputId": "c1016bd0-54a4-42ad-87b8-27a6039c0e93"
      },
      "execution_count": null,
      "outputs": [
        {
          "output_type": "stream",
          "name": "stdout",
          "text": [
            "<class 'pandas.core.frame.DataFrame'>\n",
            "RangeIndex: 8505 entries, 0 to 8504\n",
            "Data columns (total 7 columns):\n",
            " #   Column              Non-Null Count  Dtype  \n",
            "---  ------              --------------  -----  \n",
            " 0   co_uf               8505 non-null   float64\n",
            " 1   no_uf               8505 non-null   object \n",
            " 2   ano                 8505 non-null   int64  \n",
            " 3   variavel            8505 non-null   object \n",
            " 4   saude_categoria     8505 non-null   object \n",
            " 5   saude_subcategoria  8505 non-null   object \n",
            " 6   valor               8505 non-null   float64\n",
            "dtypes: float64(2), int64(1), object(4)\n",
            "memory usage: 465.2+ KB\n"
          ]
        }
      ]
    },
    {
      "cell_type": "code",
      "source": [
        "# Visualizar as primeiras linhas para entender os valores em cada variável\n",
        "print(df.head())"
      ],
      "metadata": {
        "colab": {
          "base_uri": "https://localhost:8080/"
        },
        "id": "u6HyvolnwpfM",
        "outputId": "bf077c71-e453-482e-ee60-23bfef6fd2ec"
      },
      "execution_count": null,
      "outputs": [
        {
          "output_type": "stream",
          "name": "stdout",
          "text": [
            "   co_uf      no_uf   ano       variavel saude_categoria saude_subcategoria  \\\n",
            "0   11.0  RondÃ´nia  1994  ImunizaÃ§Ãµes             BCG          Cobertura   \n",
            "1   11.0  RondÃ´nia  1994  ImunizaÃ§Ãµes             DTP          Cobertura   \n",
            "2   11.0  RondÃ´nia  1994  ImunizaÃ§Ãµes   Febre Amarela          Cobertura   \n",
            "3   11.0  RondÃ´nia  1994  ImunizaÃ§Ãµes      Hepatite B          Cobertura   \n",
            "4   11.0  RondÃ´nia  1994  ImunizaÃ§Ãµes    Poliomielite          Cobertura   \n",
            "\n",
            "    valor  \n",
            "0  93.857  \n",
            "1  62.683  \n",
            "2   8.290  \n",
            "3  47.539  \n",
            "4  54.168  \n"
          ]
        }
      ]
    },
    {
      "cell_type": "code",
      "source": [
        "\n",
        "df.head()"
      ],
      "metadata": {
        "colab": {
          "base_uri": "https://localhost:8080/",
          "height": 206
        },
        "id": "G2iDYq6Sw-ch",
        "outputId": "64769c64-8fa7-44ea-ac94-485de7e59125"
      },
      "execution_count": null,
      "outputs": [
        {
          "output_type": "execute_result",
          "data": {
            "text/plain": [
              "   co_uf      no_uf   ano       variavel saude_categoria saude_subcategoria  \\\n",
              "0   11.0  RondÃ´nia  1994  ImunizaÃ§Ãµes             BCG          Cobertura   \n",
              "1   11.0  RondÃ´nia  1994  ImunizaÃ§Ãµes             DTP          Cobertura   \n",
              "2   11.0  RondÃ´nia  1994  ImunizaÃ§Ãµes   Febre Amarela          Cobertura   \n",
              "3   11.0  RondÃ´nia  1994  ImunizaÃ§Ãµes      Hepatite B          Cobertura   \n",
              "4   11.0  RondÃ´nia  1994  ImunizaÃ§Ãµes    Poliomielite          Cobertura   \n",
              "\n",
              "    valor  \n",
              "0  93.857  \n",
              "1  62.683  \n",
              "2   8.290  \n",
              "3  47.539  \n",
              "4  54.168  "
            ],
            "text/html": [
              "\n",
              "  <div id=\"df-a3118ce3-4735-4975-8afd-f7f20ead7ae2\" class=\"colab-df-container\">\n",
              "    <div>\n",
              "<style scoped>\n",
              "    .dataframe tbody tr th:only-of-type {\n",
              "        vertical-align: middle;\n",
              "    }\n",
              "\n",
              "    .dataframe tbody tr th {\n",
              "        vertical-align: top;\n",
              "    }\n",
              "\n",
              "    .dataframe thead th {\n",
              "        text-align: right;\n",
              "    }\n",
              "</style>\n",
              "<table border=\"1\" class=\"dataframe\">\n",
              "  <thead>\n",
              "    <tr style=\"text-align: right;\">\n",
              "      <th></th>\n",
              "      <th>co_uf</th>\n",
              "      <th>no_uf</th>\n",
              "      <th>ano</th>\n",
              "      <th>variavel</th>\n",
              "      <th>saude_categoria</th>\n",
              "      <th>saude_subcategoria</th>\n",
              "      <th>valor</th>\n",
              "    </tr>\n",
              "  </thead>\n",
              "  <tbody>\n",
              "    <tr>\n",
              "      <th>0</th>\n",
              "      <td>11.0</td>\n",
              "      <td>RondÃ´nia</td>\n",
              "      <td>1994</td>\n",
              "      <td>ImunizaÃ§Ãµes</td>\n",
              "      <td>BCG</td>\n",
              "      <td>Cobertura</td>\n",
              "      <td>93.857</td>\n",
              "    </tr>\n",
              "    <tr>\n",
              "      <th>1</th>\n",
              "      <td>11.0</td>\n",
              "      <td>RondÃ´nia</td>\n",
              "      <td>1994</td>\n",
              "      <td>ImunizaÃ§Ãµes</td>\n",
              "      <td>DTP</td>\n",
              "      <td>Cobertura</td>\n",
              "      <td>62.683</td>\n",
              "    </tr>\n",
              "    <tr>\n",
              "      <th>2</th>\n",
              "      <td>11.0</td>\n",
              "      <td>RondÃ´nia</td>\n",
              "      <td>1994</td>\n",
              "      <td>ImunizaÃ§Ãµes</td>\n",
              "      <td>Febre Amarela</td>\n",
              "      <td>Cobertura</td>\n",
              "      <td>8.290</td>\n",
              "    </tr>\n",
              "    <tr>\n",
              "      <th>3</th>\n",
              "      <td>11.0</td>\n",
              "      <td>RondÃ´nia</td>\n",
              "      <td>1994</td>\n",
              "      <td>ImunizaÃ§Ãµes</td>\n",
              "      <td>Hepatite B</td>\n",
              "      <td>Cobertura</td>\n",
              "      <td>47.539</td>\n",
              "    </tr>\n",
              "    <tr>\n",
              "      <th>4</th>\n",
              "      <td>11.0</td>\n",
              "      <td>RondÃ´nia</td>\n",
              "      <td>1994</td>\n",
              "      <td>ImunizaÃ§Ãµes</td>\n",
              "      <td>Poliomielite</td>\n",
              "      <td>Cobertura</td>\n",
              "      <td>54.168</td>\n",
              "    </tr>\n",
              "  </tbody>\n",
              "</table>\n",
              "</div>\n",
              "    <div class=\"colab-df-buttons\">\n",
              "\n",
              "  <div class=\"colab-df-container\">\n",
              "    <button class=\"colab-df-convert\" onclick=\"convertToInteractive('df-a3118ce3-4735-4975-8afd-f7f20ead7ae2')\"\n",
              "            title=\"Convert this dataframe to an interactive table.\"\n",
              "            style=\"display:none;\">\n",
              "\n",
              "  <svg xmlns=\"http://www.w3.org/2000/svg\" height=\"24px\" viewBox=\"0 -960 960 960\">\n",
              "    <path d=\"M120-120v-720h720v720H120Zm60-500h600v-160H180v160Zm220 220h160v-160H400v160Zm0 220h160v-160H400v160ZM180-400h160v-160H180v160Zm440 0h160v-160H620v160ZM180-180h160v-160H180v160Zm440 0h160v-160H620v160Z\"/>\n",
              "  </svg>\n",
              "    </button>\n",
              "\n",
              "  <style>\n",
              "    .colab-df-container {\n",
              "      display:flex;\n",
              "      gap: 12px;\n",
              "    }\n",
              "\n",
              "    .colab-df-convert {\n",
              "      background-color: #E8F0FE;\n",
              "      border: none;\n",
              "      border-radius: 50%;\n",
              "      cursor: pointer;\n",
              "      display: none;\n",
              "      fill: #1967D2;\n",
              "      height: 32px;\n",
              "      padding: 0 0 0 0;\n",
              "      width: 32px;\n",
              "    }\n",
              "\n",
              "    .colab-df-convert:hover {\n",
              "      background-color: #E2EBFA;\n",
              "      box-shadow: 0px 1px 2px rgba(60, 64, 67, 0.3), 0px 1px 3px 1px rgba(60, 64, 67, 0.15);\n",
              "      fill: #174EA6;\n",
              "    }\n",
              "\n",
              "    .colab-df-buttons div {\n",
              "      margin-bottom: 4px;\n",
              "    }\n",
              "\n",
              "    [theme=dark] .colab-df-convert {\n",
              "      background-color: #3B4455;\n",
              "      fill: #D2E3FC;\n",
              "    }\n",
              "\n",
              "    [theme=dark] .colab-df-convert:hover {\n",
              "      background-color: #434B5C;\n",
              "      box-shadow: 0px 1px 3px 1px rgba(0, 0, 0, 0.15);\n",
              "      filter: drop-shadow(0px 1px 2px rgba(0, 0, 0, 0.3));\n",
              "      fill: #FFFFFF;\n",
              "    }\n",
              "  </style>\n",
              "\n",
              "    <script>\n",
              "      const buttonEl =\n",
              "        document.querySelector('#df-a3118ce3-4735-4975-8afd-f7f20ead7ae2 button.colab-df-convert');\n",
              "      buttonEl.style.display =\n",
              "        google.colab.kernel.accessAllowed ? 'block' : 'none';\n",
              "\n",
              "      async function convertToInteractive(key) {\n",
              "        const element = document.querySelector('#df-a3118ce3-4735-4975-8afd-f7f20ead7ae2');\n",
              "        const dataTable =\n",
              "          await google.colab.kernel.invokeFunction('convertToInteractive',\n",
              "                                                    [key], {});\n",
              "        if (!dataTable) return;\n",
              "\n",
              "        const docLinkHtml = 'Like what you see? Visit the ' +\n",
              "          '<a target=\"_blank\" href=https://colab.research.google.com/notebooks/data_table.ipynb>data table notebook</a>'\n",
              "          + ' to learn more about interactive tables.';\n",
              "        element.innerHTML = '';\n",
              "        dataTable['output_type'] = 'display_data';\n",
              "        await google.colab.output.renderOutput(dataTable, element);\n",
              "        const docLink = document.createElement('div');\n",
              "        docLink.innerHTML = docLinkHtml;\n",
              "        element.appendChild(docLink);\n",
              "      }\n",
              "    </script>\n",
              "  </div>\n",
              "\n",
              "\n",
              "<div id=\"df-d4e001c3-c4a8-4d6d-9f5f-519708c2a217\">\n",
              "  <button class=\"colab-df-quickchart\" onclick=\"quickchart('df-d4e001c3-c4a8-4d6d-9f5f-519708c2a217')\"\n",
              "            title=\"Suggest charts\"\n",
              "            style=\"display:none;\">\n",
              "\n",
              "<svg xmlns=\"http://www.w3.org/2000/svg\" height=\"24px\"viewBox=\"0 0 24 24\"\n",
              "     width=\"24px\">\n",
              "    <g>\n",
              "        <path d=\"M19 3H5c-1.1 0-2 .9-2 2v14c0 1.1.9 2 2 2h14c1.1 0 2-.9 2-2V5c0-1.1-.9-2-2-2zM9 17H7v-7h2v7zm4 0h-2V7h2v10zm4 0h-2v-4h2v4z\"/>\n",
              "    </g>\n",
              "</svg>\n",
              "  </button>\n",
              "\n",
              "<style>\n",
              "  .colab-df-quickchart {\n",
              "      --bg-color: #E8F0FE;\n",
              "      --fill-color: #1967D2;\n",
              "      --hover-bg-color: #E2EBFA;\n",
              "      --hover-fill-color: #174EA6;\n",
              "      --disabled-fill-color: #AAA;\n",
              "      --disabled-bg-color: #DDD;\n",
              "  }\n",
              "\n",
              "  [theme=dark] .colab-df-quickchart {\n",
              "      --bg-color: #3B4455;\n",
              "      --fill-color: #D2E3FC;\n",
              "      --hover-bg-color: #434B5C;\n",
              "      --hover-fill-color: #FFFFFF;\n",
              "      --disabled-bg-color: #3B4455;\n",
              "      --disabled-fill-color: #666;\n",
              "  }\n",
              "\n",
              "  .colab-df-quickchart {\n",
              "    background-color: var(--bg-color);\n",
              "    border: none;\n",
              "    border-radius: 50%;\n",
              "    cursor: pointer;\n",
              "    display: none;\n",
              "    fill: var(--fill-color);\n",
              "    height: 32px;\n",
              "    padding: 0;\n",
              "    width: 32px;\n",
              "  }\n",
              "\n",
              "  .colab-df-quickchart:hover {\n",
              "    background-color: var(--hover-bg-color);\n",
              "    box-shadow: 0 1px 2px rgba(60, 64, 67, 0.3), 0 1px 3px 1px rgba(60, 64, 67, 0.15);\n",
              "    fill: var(--button-hover-fill-color);\n",
              "  }\n",
              "\n",
              "  .colab-df-quickchart-complete:disabled,\n",
              "  .colab-df-quickchart-complete:disabled:hover {\n",
              "    background-color: var(--disabled-bg-color);\n",
              "    fill: var(--disabled-fill-color);\n",
              "    box-shadow: none;\n",
              "  }\n",
              "\n",
              "  .colab-df-spinner {\n",
              "    border: 2px solid var(--fill-color);\n",
              "    border-color: transparent;\n",
              "    border-bottom-color: var(--fill-color);\n",
              "    animation:\n",
              "      spin 1s steps(1) infinite;\n",
              "  }\n",
              "\n",
              "  @keyframes spin {\n",
              "    0% {\n",
              "      border-color: transparent;\n",
              "      border-bottom-color: var(--fill-color);\n",
              "      border-left-color: var(--fill-color);\n",
              "    }\n",
              "    20% {\n",
              "      border-color: transparent;\n",
              "      border-left-color: var(--fill-color);\n",
              "      border-top-color: var(--fill-color);\n",
              "    }\n",
              "    30% {\n",
              "      border-color: transparent;\n",
              "      border-left-color: var(--fill-color);\n",
              "      border-top-color: var(--fill-color);\n",
              "      border-right-color: var(--fill-color);\n",
              "    }\n",
              "    40% {\n",
              "      border-color: transparent;\n",
              "      border-right-color: var(--fill-color);\n",
              "      border-top-color: var(--fill-color);\n",
              "    }\n",
              "    60% {\n",
              "      border-color: transparent;\n",
              "      border-right-color: var(--fill-color);\n",
              "    }\n",
              "    80% {\n",
              "      border-color: transparent;\n",
              "      border-right-color: var(--fill-color);\n",
              "      border-bottom-color: var(--fill-color);\n",
              "    }\n",
              "    90% {\n",
              "      border-color: transparent;\n",
              "      border-bottom-color: var(--fill-color);\n",
              "    }\n",
              "  }\n",
              "</style>\n",
              "\n",
              "  <script>\n",
              "    async function quickchart(key) {\n",
              "      const quickchartButtonEl =\n",
              "        document.querySelector('#' + key + ' button');\n",
              "      quickchartButtonEl.disabled = true;  // To prevent multiple clicks.\n",
              "      quickchartButtonEl.classList.add('colab-df-spinner');\n",
              "      try {\n",
              "        const charts = await google.colab.kernel.invokeFunction(\n",
              "            'suggestCharts', [key], {});\n",
              "      } catch (error) {\n",
              "        console.error('Error during call to suggestCharts:', error);\n",
              "      }\n",
              "      quickchartButtonEl.classList.remove('colab-df-spinner');\n",
              "      quickchartButtonEl.classList.add('colab-df-quickchart-complete');\n",
              "    }\n",
              "    (() => {\n",
              "      let quickchartButtonEl =\n",
              "        document.querySelector('#df-d4e001c3-c4a8-4d6d-9f5f-519708c2a217 button');\n",
              "      quickchartButtonEl.style.display =\n",
              "        google.colab.kernel.accessAllowed ? 'block' : 'none';\n",
              "    })();\n",
              "  </script>\n",
              "</div>\n",
              "\n",
              "    </div>\n",
              "  </div>\n"
            ],
            "application/vnd.google.colaboratory.intrinsic+json": {
              "type": "dataframe",
              "variable_name": "df",
              "summary": "{\n  \"name\": \"df\",\n  \"rows\": 8505,\n  \"fields\": [\n    {\n      \"column\": \"co_uf\",\n      \"properties\": {\n        \"dtype\": \"number\",\n        \"std\": 12.781910430084807,\n        \"min\": 11.0,\n        \"max\": 53.0,\n        \"num_unique_values\": 27,\n        \"samples\": [\n          22.0,\n          27.0,\n          23.0\n        ],\n        \"semantic_type\": \"\",\n        \"description\": \"\"\n      }\n    },\n    {\n      \"column\": \"no_uf\",\n      \"properties\": {\n        \"dtype\": \"category\",\n        \"num_unique_values\": 27,\n        \"samples\": [\n          \"Piau\\u00c3\\u00ad\",\n          \"Alagoas\",\n          \"Cear\\u00c3\\u00a1\"\n        ],\n        \"semantic_type\": \"\",\n        \"description\": \"\"\n      }\n    },\n    {\n      \"column\": \"ano\",\n      \"properties\": {\n        \"dtype\": \"number\",\n        \"std\": 7,\n        \"min\": 1994,\n        \"max\": 2021,\n        \"num_unique_values\": 28,\n        \"samples\": [\n          2003,\n          2019,\n          2002\n        ],\n        \"semantic_type\": \"\",\n        \"description\": \"\"\n      }\n    },\n    {\n      \"column\": \"variavel\",\n      \"properties\": {\n        \"dtype\": \"category\",\n        \"num_unique_values\": 1,\n        \"samples\": [\n          \"Imuniza\\u00c3\\u00a7\\u00c3\\u00b5es\"\n        ],\n        \"semantic_type\": \"\",\n        \"description\": \"\"\n      }\n    },\n    {\n      \"column\": \"saude_categoria\",\n      \"properties\": {\n        \"dtype\": \"category\",\n        \"num_unique_values\": 23,\n        \"samples\": [\n          \"Tr\\u00c3\\u00adplice Bacte(DTP)(1\\u00c2\\u00ba ref)\"\n        ],\n        \"semantic_type\": \"\",\n        \"description\": \"\"\n      }\n    },\n    {\n      \"column\": \"saude_subcategoria\",\n      \"properties\": {\n        \"dtype\": \"category\",\n        \"num_unique_values\": 1,\n        \"samples\": [\n          \"Cobertura\"\n        ],\n        \"semantic_type\": \"\",\n        \"description\": \"\"\n      }\n    },\n    {\n      \"column\": \"valor\",\n      \"properties\": {\n        \"dtype\": \"number\",\n        \"std\": 31.163025445884053,\n        \"min\": 0.0,\n        \"max\": 187.408,\n        \"num_unique_values\": 7794,\n        \"samples\": [\n          62.391\n        ],\n        \"semantic_type\": \"\",\n        \"description\": \"\"\n      }\n    }\n  ]\n}"
            }
          },
          "metadata": {},
          "execution_count": 17
        }
      ]
    },
    {
      "cell_type": "code",
      "source": [
        "df.dtypes"
      ],
      "metadata": {
        "colab": {
          "base_uri": "https://localhost:8080/",
          "height": 304
        },
        "id": "7jLNgN4yxBWl",
        "outputId": "bea9ca5e-294d-47c3-9120-9c1b4d4882cd"
      },
      "execution_count": null,
      "outputs": [
        {
          "output_type": "execute_result",
          "data": {
            "text/plain": [
              "co_uf                 float64\n",
              "no_uf                  object\n",
              "ano                     int64\n",
              "variavel               object\n",
              "saude_categoria        object\n",
              "saude_subcategoria     object\n",
              "valor                 float64\n",
              "dtype: object"
            ],
            "text/html": [
              "<div>\n",
              "<style scoped>\n",
              "    .dataframe tbody tr th:only-of-type {\n",
              "        vertical-align: middle;\n",
              "    }\n",
              "\n",
              "    .dataframe tbody tr th {\n",
              "        vertical-align: top;\n",
              "    }\n",
              "\n",
              "    .dataframe thead th {\n",
              "        text-align: right;\n",
              "    }\n",
              "</style>\n",
              "<table border=\"1\" class=\"dataframe\">\n",
              "  <thead>\n",
              "    <tr style=\"text-align: right;\">\n",
              "      <th></th>\n",
              "      <th>0</th>\n",
              "    </tr>\n",
              "  </thead>\n",
              "  <tbody>\n",
              "    <tr>\n",
              "      <th>co_uf</th>\n",
              "      <td>float64</td>\n",
              "    </tr>\n",
              "    <tr>\n",
              "      <th>no_uf</th>\n",
              "      <td>object</td>\n",
              "    </tr>\n",
              "    <tr>\n",
              "      <th>ano</th>\n",
              "      <td>int64</td>\n",
              "    </tr>\n",
              "    <tr>\n",
              "      <th>variavel</th>\n",
              "      <td>object</td>\n",
              "    </tr>\n",
              "    <tr>\n",
              "      <th>saude_categoria</th>\n",
              "      <td>object</td>\n",
              "    </tr>\n",
              "    <tr>\n",
              "      <th>saude_subcategoria</th>\n",
              "      <td>object</td>\n",
              "    </tr>\n",
              "    <tr>\n",
              "      <th>valor</th>\n",
              "      <td>float64</td>\n",
              "    </tr>\n",
              "  </tbody>\n",
              "</table>\n",
              "</div><br><label><b>dtype:</b> object</label>"
            ]
          },
          "metadata": {},
          "execution_count": 18
        }
      ]
    },
    {
      "cell_type": "code",
      "source": [
        "print(df.head())"
      ],
      "metadata": {
        "colab": {
          "base_uri": "https://localhost:8080/"
        },
        "id": "O-AayVcxyOZ7",
        "outputId": "09948142-37d7-4036-c422-667426b90cb0"
      },
      "execution_count": null,
      "outputs": [
        {
          "output_type": "stream",
          "name": "stdout",
          "text": [
            "   co_uf      no_uf   ano       variavel saude_categoria saude_subcategoria  \\\n",
            "0   11.0  RondÃ´nia  1994  ImunizaÃ§Ãµes             BCG          Cobertura   \n",
            "1   11.0  RondÃ´nia  1994  ImunizaÃ§Ãµes             DTP          Cobertura   \n",
            "2   11.0  RondÃ´nia  1994  ImunizaÃ§Ãµes   Febre Amarela          Cobertura   \n",
            "3   11.0  RondÃ´nia  1994  ImunizaÃ§Ãµes      Hepatite B          Cobertura   \n",
            "4   11.0  RondÃ´nia  1994  ImunizaÃ§Ãµes    Poliomielite          Cobertura   \n",
            "\n",
            "    valor  \n",
            "0  93.857  \n",
            "1  62.683  \n",
            "2   8.290  \n",
            "3  47.539  \n",
            "4  54.168  \n"
          ]
        }
      ]
    },
    {
      "cell_type": "code",
      "source": [
        "import numpy as np\n",
        "import matplotlib.pyplot as plt  # Importação correta\n",
        "import seaborn as sbn\n",
        "\n",
        "# Selecionar apenas as colunas numéricas do DataFrame\n",
        "df_numerico = df.select_dtypes(include=[np.number])\n",
        "\n",
        "# Calcular a correlação\n",
        "correlacao = df_numerico.corr()\n",
        "print(correlacao)\n",
        "\n",
        "# Criar o heatmap\n",
        "plt.figure(figsize=(10,8))  # Ajustar tamanho do gráfico\n",
        "sbn.heatmap(correlacao, annot=True, fmt=\".2f\", cmap='coolwarm')\n",
        "plt.show()"
      ],
      "metadata": {
        "colab": {
          "base_uri": "https://localhost:8080/",
          "height": 751
        },
        "id": "Ue3Fbis-yvK-",
        "outputId": "4f9faad8-c339-4182-d90a-38506b83aac3"
      },
      "execution_count": null,
      "outputs": [
        {
          "output_type": "stream",
          "name": "stdout",
          "text": [
            "              co_uf           ano     valor\n",
            "co_uf  1.000000e+00  1.754061e-14  0.061004\n",
            "ano    1.754061e-14  1.000000e+00 -0.005725\n",
            "valor  6.100407e-02 -5.724724e-03  1.000000\n"
          ]
        },
        {
          "output_type": "display_data",
          "data": {
            "text/plain": [
              "<Figure size 1000x800 with 2 Axes>"
            ],
            "image/png": "[encoded data removed]"
          },
          "metadata": {}
        }
      ]
    }
  ]
}